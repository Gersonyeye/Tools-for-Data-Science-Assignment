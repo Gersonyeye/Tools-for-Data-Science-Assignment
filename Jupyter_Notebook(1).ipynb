{
 "cells": [
  {
   "cell_type": "markdown",
   "metadata": {},
   "source": [
    "<center>\n",
    "    <img src=\"https://s3-api.us-geo.objectstorage.softlayer.net/cf-courses-data/CognitiveClass/Logos/organization_logo/organization_logo.png\" width=\"300\" alt=\"cognitiveclass.ai logo\"  />\n",
    "</center>\n"
   ]
  },
  {
   "cell_type": "markdown",
   "metadata": {
    "tags": []
   },
   "source": [
    "#### Add your code below following the instructions given in the course\n"
   ]
  },
  {
   "cell_type": "markdown",
   "metadata": {},
   "source": [
    "# My Jupyter Notebook on IBM Watson Studio"
   ]
  },
  {
   "cell_type": "markdown",
   "metadata": {},
   "source": [
    "**Gerson José Moreno Morales.**\n",
    "\n",
    "Statistics student."
   ]
  },
  {
   "cell_type": "markdown",
   "metadata": {
    "tags": []
   },
   "source": [
    "*I am interested in data science because I study statistics and I like to solve problems with the help of data.*"
   ]
  },
  {
   "cell_type": "markdown",
   "metadata": {
    "tags": []
   },
   "source": [
    "### This code takes the arithmetic mean of an array of 10 numbers."
   ]
  },
  {
   "cell_type": "code",
   "execution_count": 1,
   "metadata": {},
   "outputs": [
    {
     "name": "stdout",
     "output_type": "stream",
     "text": [
      "The arithmetic mean of the 10 numbers is:  5.1\n"
     ]
    }
   ],
   "source": [
    "import numpy as np\n",
    "numbers=np.array([1,9,4,5,7,8,5,5,3,4])\n",
    "print(\"The arithmetic mean of the 10 numbers is: \",np.mean(numbers))"
   ]
  },
  {
   "cell_type": "markdown",
   "metadata": {},
   "source": [
    "1. Start.\n",
    "2. Verify start.\n",
    "    > If not started, go back to step 1.\n",
    "3. Run your code:\n",
    "    - Verify kernel.\n",
    "4. Save script.\n",
    "5. Push to your repository on [Github](https://github.com/).\n",
    "\n",
    "---\n",
    "\n",
    "![Logo github](data:image/png;base64,iVBORw0KGgoAAAANSUhEUgAAAV8AAACQCAMAAACYophmAAAAhFBMVEX///8VEBMAAADc29x7eXrJyMiXlZa/vr8PCQ25uLmioaKmpaXW1tb19fVzcXLj4uMqJik6Njjs7OwKAAbp6emxsLBLSEr5+flDQEIHAAIkHyKHhYbQ0NCcm5xgXl9mZGUyLjBWVFUeGRyQjo9/fX41MTRhXmBsamtIRUdAPT8aFBiKiYkvqta6AAAIXklEQVR4nO2di5aiOBBAJT6ID8QWbXzg29luu////xYU7aQqkSTgOC1195w9ZwZI4hVDUqkwjQZBEARBEARBEARBEARBEARBEARBEARBEARBEARBEARxn7jp95cf613GejNcrrrtMH52o16E2D9+sgvzM/kf2HbTSZ7duF+Pv0lNRp4KnkneTYNnN/H3Eq8ixpRub6R383Bcba3/LUYi26b6tKF82qjkbyl+l8t7C8uVZ8CUMX7f7hnGsIFgMnG9r5uMS7CO8rQAntZyrC+nDcvrlyuvkPDTyG4mGN460/dUenRaOSlugl+M1i84rbRfUN6D/U7Z3Mxu2hT5ymTL5tk3E7H51KHievhdFvS7AtG7dGX353HI2cG+5lr4HZrr9WSJA+lKh1bWwa+NXo+1xUv3cqfNJrZ118Bvx0avx8TH2BQ282hb+ev7hVXdh2/Fa3fgqci/bOfRL+834IbjsrwhS/Fi9NXIg+NJV0YxiH95vx9Wt6/HfOHaMfYrHk47dpkTrv7V/SZ2euUnWLFf6WA0w/W/ut+TOppzCedInLsRvhAvjrHfgXic/Prq25exRWuaTPKHVRAmfudjlDkGn2sGvx1pdEF+saCL3aMqijXufsxZV/orOLRja+lw7f0OFLcvvxOCjMEIAH1sOfZTe78t7JfLj6gC+vL8eCgfrb1flV67SLP4DbFPcLDufhVPN0u9WRecFzJnG3gM+q3b+BcHdsDzy4Tw4zJ+e2+jQ6B8/oavfmm/WC+6BU2I291uW7V6UXO/8LO5xBfvUnO/fejXPrx4n1/qN04pV/wF1P1aP9zsKvgFfsPpcT0b7fej0641LWtjCyKTYGnNqJ1yABI84qDfkf9zat5fl/U7aEugtIimfPwaHlH6TVqLLG0pOq/YZ4lLf9zWxHNQdIb1bItowyCQ8PmSzg5GlsWgUT6TLuk3gQ0A458QHh9cGw7Kmzb6C5QAkrZX3Rwj0OTYvnvowmZe5n5B+5Alsd1b8o/yuUhJv3AED28R+Bmvk1PoN1p76vwPNnLuJaAcOfboVMSl+aE2iU34QHlf9I/49SLdKk7E8LjejBWs237wq/arCXrKzdb5/Q7GCsJH+9XDUcKSITC445AeUr1fD8X1L8Cz/p5fj0duKY1rWLf93PgBfs34m349Zj+uyngHfaTD76AefrPRhQNw+Asmx5OF5qfK2Nd1eaMmfvncQW/8Bf3Kx2FujupT1MSv0w0Mhzw2fq+z9br4lbOW3PxyXnu/PMpmRaqRsCJp39ovmF482K9m/mbIA/ymk2F+2rRa64Vi4ukwdkV+R1X5vUUl4CTOIP5gSOV+OfO+kzyak7yjRkVwafGZfhvd3pk+GAHyUb93Y/xP+eVbafCP19WZdUT4cf3DDYf4ryFV+2VgigbnXp59FAL5/aqzXxAlmyC/1gtIjxufvYBflLZrv2BCfsW/h37hCfN1w5IY5T7KfdCT/PI5no+zOWrro/3CxR2uyI0p8LuA82Mpd/dJftkhDhTA/vDhfhtvsh2+tx5AnKBfWc6URVfgjOaRfp+zfoH9wsV1Zr3UCTf/gEfkeDf7TP/L/vcGv4ka+IVbWu39okfkUHcmamUN/KLVM2u/B1CCKn1U08oa+IXJTfZ+oRx9Ec/3C3cqPd4v2ppq7RdtzdJmrpNfF784f0c3RyG/Ln7RAhz3NGO8Ovot3/8q8ic1K/R19Ft+/IBnaKoNEspW1sAvGF3ZvxkgyxMDfnU3cB39HkHbt1qNemAEQjfLrqNfMPtyyI1uNL7xDazM8aujXxATcNr5o9gey74NzvuH/a4KWm7sF57gtDUFjtCygpb4tF/kF1zu7Ff7ka1AO4iyknZok1ZVfiPcgqr9ghiVs1/0ZgCbXdk3YlXaNmNLUBuS4OYXrdKqii7nl3sFxev8wntqdD/50RT1u7kY++z4zSCO4yAIk+5qBzNZDf2iGCruxEr6xTEUeR29Z+pXXrtBswv4vZkSe+p9B5G0/IVWvwz9wlaix09pv2gIzxfCPKv9qQthofwddhR/s2jm5bZxWFWSCaZ+ceHsdNm1NxnElfjFb1iKeP/8Ux63l3u8y0aff8bY7JCc+6+xj7JLSuyf3TkINvWrGP/dfhh/KvGL+kkxyU31bLmTPyn8ZvF1zru0xqbv/RVrM/SLUix+uI4lyvqFi4hFLf97+b9XTLJJYSsN/d759NdsY0O/uvV59AArarlj/rr1zlYB9BQqrs7Ur2p8faEqvzhGdb/ljn5Lvdbf4u3KeXWmfvUdRFV+0S6ogpa77R9SzGltwHGegvpM/eq/uuuAsrRfu+7NyS8vd/s2zrk6Vq28v39IINA9PSvz25jZPOHc9hc6bX+TaI4sKmS3SVKhX+3tVZ3fwh5YfAGv0m/BzcU+SuttZOshhoYZ29zm4sV+dW/Hrs5vUQ/BvNmPYJVftrw7B3DcHYvI3rNVOBROB+9rYapu4DcdQalujwr9iv+GAbbDWoEwilH69X9e4qYoYFeN3pTwyO/exOnRvRxaM/Gb/QsZ+HurbPyQMXhT3xlpg1uhJFPpNz1lMlTfXKVeYIIJuhvNxDKbdXotuMkjAHuUufpBi169kpa2zUuAqdTqOGsM30cM4gGKl7vM0zl4L4B15PsEJ8JfXWbqk8MXLCKdMG+q/3eJktUGv1yZ7Yd95RbGUEJf6PcfsbTR0b8upAZyCbowa1x0Wnv5Jbd417s1Z9w8E4bNWwBaqPa2pJsc3qQSZqtqXwcnfJpme9pZHlsZx0O/3azifWBpmb3OoZOWVkFhKoKke2n0cuW71tH0+4flcfm98gfFJxMEQRAEQRAEQRAEQRAEQRAEQRAEQRAEQRAEQRAEQRAE8cv4H34znLr3lUbcAAAAAElFTkSuQmCC)"
   ]
  }
 ],
 "metadata": {
  "kernelspec": {
   "display_name": "Python",
   "language": "python",
   "name": "conda-env-python-py"
  },
  "language_info": {
   "codemirror_mode": {
    "name": "ipython",
    "version": 3
   },
   "file_extension": ".py",
   "mimetype": "text/x-python",
   "name": "python",
   "nbconvert_exporter": "python",
   "pygments_lexer": "ipython3",
   "version": "3.7.12"
  }
 },
 "nbformat": 4,
 "nbformat_minor": 4
}
